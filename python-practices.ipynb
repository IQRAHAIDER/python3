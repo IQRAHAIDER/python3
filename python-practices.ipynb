{
 "cells": [
  {
   "cell_type": "code",
   "execution_count": null,
   "metadata": {},
   "outputs": [],
   "source": [
    "<root>\n",
    "<student gender=\"male\">\n",
    "<id>10</id>\n",
    "<name>John</name>\n",
    "</student>\n",
    "<student gender=\"female\">\n",
    "<name>Mary</name>\n",
    "</root>\n"
   ]
  }
 ],
 "metadata": {
  "language_info": {
   "name": "python"
  }
 },
 "nbformat": 4,
 "nbformat_minor": 2
}
